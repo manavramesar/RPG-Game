{
 "cells": [
  {
   "cell_type": "code",
   "execution_count": 1,
   "id": "66b62f83",
   "metadata": {},
   "outputs": [],
   "source": [
    "import random "
   ]
  },
  {
   "cell_type": "code",
   "execution_count": 2,
   "id": "7cee045b",
   "metadata": {},
   "outputs": [
    {
     "name": "stdout",
     "output_type": "stream",
     "text": [
      "What is your name? Nate\n",
      "Hello Nate, welcome to Plant World RPG\n"
     ]
    }
   ],
   "source": [
    "name = input('What is your name? ')\n",
    "\n",
    "print('Hello ' +name + ', welcome to Plant World RPG')"
   ]
  },
  {
   "cell_type": "code",
   "execution_count": 4,
   "id": "4637346d",
   "metadata": {},
   "outputs": [
    {
     "name": "stdout",
     "output_type": "stream",
     "text": [
      "Would you like to roll the dice? Y/N Y\n",
      "Great, you rolled a 3\n",
      "You are a cactus\n"
     ]
    }
   ],
   "source": [
    "answer = input('Would you like to roll the dice? Y/N ')\n",
    "\n",
    "s = str(random.randint(1,6))\n",
    "\n",
    "\n",
    "if answer == 'Y':\n",
    "        print(\"Great, you rolled a \" + s )\n",
    "else:\n",
    "    print('No problem, please feel free to come back when you are ready to play')\n",
    "    \n",
    "if s == '1':\n",
    "    print('You are a sunflower')\n",
    "elif s == '2':\n",
    "    print('You are a rose')\n",
    "elif s == '3':\n",
    "    print('You are a cactus')\n",
    "elif s == '4':\n",
    "    print('You are a fern')\n",
    "elif s == '5':\n",
    "    print('You are a orchid')\n",
    "elif s == '6':\n",
    "    print('You are a lavender')\n",
    "    "
   ]
  },
  {
   "cell_type": "code",
   "execution_count": null,
   "id": "27a6200d",
   "metadata": {},
   "outputs": [],
   "source": []
  },
  {
   "cell_type": "code",
   "execution_count": null,
   "id": "59a5fcb2",
   "metadata": {},
   "outputs": [],
   "source": []
  }
 ],
 "metadata": {
  "kernelspec": {
   "display_name": "Python 3 (ipykernel)",
   "language": "python",
   "name": "python3"
  },
  "language_info": {
   "codemirror_mode": {
    "name": "ipython",
    "version": 3
   },
   "file_extension": ".py",
   "mimetype": "text/x-python",
   "name": "python",
   "nbconvert_exporter": "python",
   "pygments_lexer": "ipython3",
   "version": "3.11.5"
  }
 },
 "nbformat": 4,
 "nbformat_minor": 5
}
